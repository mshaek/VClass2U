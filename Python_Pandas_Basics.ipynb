{
  "nbformat": 4,
  "nbformat_minor": 0,
  "metadata": {
    "colab": {
      "name": "Python Pandas Basics.ipynb",
      "provenance": [],
      "authorship_tag": "ABX9TyPmg4XWa/6A1H3BeAM4HW8h",
      "include_colab_link": true
    },
    "kernelspec": {
      "name": "python3",
      "display_name": "Python 3"
    },
    "language_info": {
      "name": "python"
    }
  },
  "cells": [
    {
      "cell_type": "markdown",
      "metadata": {
        "id": "view-in-github",
        "colab_type": "text"
      },
      "source": [
        "<a href=\"https://colab.research.google.com/github/mshaek/VClass2U/blob/main/Python_Pandas_Basics.ipynb\" target=\"_parent\"><img src=\"https://colab.research.google.com/assets/colab-badge.svg\" alt=\"Open In Colab\"/></a>"
      ]
    },
    {
      "cell_type": "markdown",
      "metadata": {
        "id": "6iiKTpMCAs8T"
      },
      "source": [
        "Materials teken from Python For Data Science Cheat Sheet: Pandas Basics by DataCamp\n",
        "\n",
        "Use the following import convention:\n",
        "\n",
        "---\n",
        "\n"
      ]
    },
    {
      "cell_type": "code",
      "metadata": {
        "id": "MYpOPR5PAplK"
      },
      "source": [
        "# Import python package for  pandas\n",
        "import pandas as pd\n",
        "# As 'pd' is an alias for easy to call"
      ],
      "execution_count": null,
      "outputs": []
    },
    {
      "cell_type": "markdown",
      "metadata": {
        "id": "PW6ZUDIkA7rp"
      },
      "source": [
        "## Pandas Data Structures\n",
        "### Series\n",
        "A one-dimensional labeled array capable of holding any data type"
      ]
    },
    {
      "cell_type": "code",
      "metadata": {
        "id": "xzJGA0g5BI2j",
        "colab": {
          "base_uri": "https://localhost:8080/"
        },
        "outputId": "3e98d37a-b204-4aa6-847d-8f29536dc8a8"
      },
      "source": [
        "s = pd.Series([3, -5, 7, 4],  index=['a',  'b',  'c',  'd'])\n"
      ],
      "execution_count": null,
      "outputs": [
        {
          "output_type": "execute_result",
          "data": {
            "text/plain": [
              "a    3\n",
              "b   -5\n",
              "dtype: int64"
            ]
          },
          "metadata": {
            "tags": []
          },
          "execution_count": 3
        }
      ]
    },
    {
      "cell_type": "markdown",
      "metadata": {
        "id": "dWOfLMsMBN8x"
      },
      "source": [
        "### DataFrame\n",
        "A two-dimensional labeled data structure with columns of potentially different types"
      ]
    },
    {
      "cell_type": "code",
      "metadata": {
        "id": "mrXK2_B8BlBy"
      },
      "source": [
        "data = {'Country': ['Belgium',  'India',  'Brazil'],\n",
        "        'Capital': ['Brussels',  'New Delhi',  'Brasilia'],\n",
        "        'Population': [11190846, 1303171035, 207847528]}\n",
        "\n",
        "df = pd.DataFrame(data,columns=['Country',  'Capital',  'Population'])"
      ],
      "execution_count": null,
      "outputs": []
    },
    {
      "cell_type": "markdown",
      "metadata": {
        "id": "oU8uBsYKBz2i"
      },
      "source": [
        "Please note that the first column 1,2,3 is the index and Country,Capital,Population are the Columns."
      ]
    },
    {
      "cell_type": "code",
      "metadata": {
        "id": "NNwf7aqLCKr-",
        "colab": {
          "base_uri": "https://localhost:8080/"
        },
        "outputId": "35fda514-c43d-4ab5-996d-62781a445d48"
      },
      "source": [
        "#Asking For Help\n",
        "help(pd.Series.loc)"
      ],
      "execution_count": null,
      "outputs": [
        {
          "output_type": "stream",
          "text": [
            "Help on property:\n",
            "\n",
            "    Access a group of rows and columns by label(s) or a boolean array.\n",
            "    \n",
            "    ``.loc[]`` is primarily label based, but may also be used with a\n",
            "    boolean array.\n",
            "    \n",
            "    Allowed inputs are:\n",
            "    \n",
            "    - A single label, e.g. ``5`` or ``'a'``, (note that ``5`` is\n",
            "      interpreted as a *label* of the index, and **never** as an\n",
            "      integer position along the index).\n",
            "    - A list or array of labels, e.g. ``['a', 'b', 'c']``.\n",
            "    - A slice object with labels, e.g. ``'a':'f'``.\n",
            "    \n",
            "      .. warning:: Note that contrary to usual python slices, **both** the\n",
            "          start and the stop are included\n",
            "    \n",
            "    - A boolean array of the same length as the axis being sliced,\n",
            "      e.g. ``[True, False, True]``.\n",
            "    - A ``callable`` function with one argument (the calling Series or\n",
            "      DataFrame) and that returns valid output for indexing (one of the above)\n",
            "    \n",
            "    See more at :ref:`Selection by Label <indexing.label>`\n",
            "    \n",
            "    Raises\n",
            "    ------\n",
            "    KeyError\n",
            "        If any items are not found.\n",
            "    \n",
            "    See Also\n",
            "    --------\n",
            "    DataFrame.at : Access a single value for a row/column label pair.\n",
            "    DataFrame.iloc : Access group of rows and columns by integer position(s).\n",
            "    DataFrame.xs : Returns a cross-section (row(s) or column(s)) from the\n",
            "        Series/DataFrame.\n",
            "    Series.loc : Access group of values using labels.\n",
            "    \n",
            "    Examples\n",
            "    --------\n",
            "    **Getting values**\n",
            "    \n",
            "    >>> df = pd.DataFrame([[1, 2], [4, 5], [7, 8]],\n",
            "    ...      index=['cobra', 'viper', 'sidewinder'],\n",
            "    ...      columns=['max_speed', 'shield'])\n",
            "    >>> df\n",
            "                max_speed  shield\n",
            "    cobra               1       2\n",
            "    viper               4       5\n",
            "    sidewinder          7       8\n",
            "    \n",
            "    Single label. Note this returns the row as a Series.\n",
            "    \n",
            "    >>> df.loc['viper']\n",
            "    max_speed    4\n",
            "    shield       5\n",
            "    Name: viper, dtype: int64\n",
            "    \n",
            "    List of labels. Note using ``[[]]`` returns a DataFrame.\n",
            "    \n",
            "    >>> df.loc[['viper', 'sidewinder']]\n",
            "                max_speed  shield\n",
            "    viper               4       5\n",
            "    sidewinder          7       8\n",
            "    \n",
            "    Single label for row and column\n",
            "    \n",
            "    >>> df.loc['cobra', 'shield']\n",
            "    2\n",
            "    \n",
            "    Slice with labels for row and single label for column. As mentioned\n",
            "    above, note that both the start and stop of the slice are included.\n",
            "    \n",
            "    >>> df.loc['cobra':'viper', 'max_speed']\n",
            "    cobra    1\n",
            "    viper    4\n",
            "    Name: max_speed, dtype: int64\n",
            "    \n",
            "    Boolean list with the same length as the row axis\n",
            "    \n",
            "    >>> df.loc[[False, False, True]]\n",
            "                max_speed  shield\n",
            "    sidewinder          7       8\n",
            "    \n",
            "    Conditional that returns a boolean Series\n",
            "    \n",
            "    >>> df.loc[df['shield'] > 6]\n",
            "                max_speed  shield\n",
            "    sidewinder          7       8\n",
            "    \n",
            "    Conditional that returns a boolean Series with column labels specified\n",
            "    \n",
            "    >>> df.loc[df['shield'] > 6, ['max_speed']]\n",
            "                max_speed\n",
            "    sidewinder          7\n",
            "    \n",
            "    Callable that returns a boolean Series\n",
            "    \n",
            "    >>> df.loc[lambda df: df['shield'] == 8]\n",
            "                max_speed  shield\n",
            "    sidewinder          7       8\n",
            "    \n",
            "    **Setting values**\n",
            "    \n",
            "    Set value for all items matching the list of labels\n",
            "    \n",
            "    >>> df.loc[['viper', 'sidewinder'], ['shield']] = 50\n",
            "    >>> df\n",
            "                max_speed  shield\n",
            "    cobra               1       2\n",
            "    viper               4      50\n",
            "    sidewinder          7      50\n",
            "    \n",
            "    Set value for an entire row\n",
            "    \n",
            "    >>> df.loc['cobra'] = 10\n",
            "    >>> df\n",
            "                max_speed  shield\n",
            "    cobra              10      10\n",
            "    viper               4      50\n",
            "    sidewinder          7      50\n",
            "    \n",
            "    Set value for an entire column\n",
            "    \n",
            "    >>> df.loc[:, 'max_speed'] = 30\n",
            "    >>> df\n",
            "                max_speed  shield\n",
            "    cobra              30      10\n",
            "    viper              30      50\n",
            "    sidewinder         30      50\n",
            "    \n",
            "    Set value for rows matching callable condition\n",
            "    \n",
            "    >>> df.loc[df['shield'] > 35] = 0\n",
            "    >>> df\n",
            "                max_speed  shield\n",
            "    cobra              30      10\n",
            "    viper               0       0\n",
            "    sidewinder          0       0\n",
            "    \n",
            "    **Getting values on a DataFrame with an index that has integer labels**\n",
            "    \n",
            "    Another example using integers for the index\n",
            "    \n",
            "    >>> df = pd.DataFrame([[1, 2], [4, 5], [7, 8]],\n",
            "    ...      index=[7, 8, 9], columns=['max_speed', 'shield'])\n",
            "    >>> df\n",
            "       max_speed  shield\n",
            "    7          1       2\n",
            "    8          4       5\n",
            "    9          7       8\n",
            "    \n",
            "    Slice with integer labels for rows. As mentioned above, note that both\n",
            "    the start and stop of the slice are included.\n",
            "    \n",
            "    >>> df.loc[7:9]\n",
            "       max_speed  shield\n",
            "    7          1       2\n",
            "    8          4       5\n",
            "    9          7       8\n",
            "    \n",
            "    **Getting values with a MultiIndex**\n",
            "    \n",
            "    A number of examples using a DataFrame with a MultiIndex\n",
            "    \n",
            "    >>> tuples = [\n",
            "    ...    ('cobra', 'mark i'), ('cobra', 'mark ii'),\n",
            "    ...    ('sidewinder', 'mark i'), ('sidewinder', 'mark ii'),\n",
            "    ...    ('viper', 'mark ii'), ('viper', 'mark iii')\n",
            "    ... ]\n",
            "    >>> index = pd.MultiIndex.from_tuples(tuples)\n",
            "    >>> values = [[12, 2], [0, 4], [10, 20],\n",
            "    ...         [1, 4], [7, 1], [16, 36]]\n",
            "    >>> df = pd.DataFrame(values, columns=['max_speed', 'shield'], index=index)\n",
            "    >>> df\n",
            "                         max_speed  shield\n",
            "    cobra      mark i           12       2\n",
            "               mark ii           0       4\n",
            "    sidewinder mark i           10      20\n",
            "               mark ii           1       4\n",
            "    viper      mark ii           7       1\n",
            "               mark iii         16      36\n",
            "    \n",
            "    Single label. Note this returns a DataFrame with a single index.\n",
            "    \n",
            "    >>> df.loc['cobra']\n",
            "             max_speed  shield\n",
            "    mark i          12       2\n",
            "    mark ii          0       4\n",
            "    \n",
            "    Single index tuple. Note this returns a Series.\n",
            "    \n",
            "    >>> df.loc[('cobra', 'mark ii')]\n",
            "    max_speed    0\n",
            "    shield       4\n",
            "    Name: (cobra, mark ii), dtype: int64\n",
            "    \n",
            "    Single label for row and column. Similar to passing in a tuple, this\n",
            "    returns a Series.\n",
            "    \n",
            "    >>> df.loc['cobra', 'mark i']\n",
            "    max_speed    12\n",
            "    shield        2\n",
            "    Name: (cobra, mark i), dtype: int64\n",
            "    \n",
            "    Single tuple. Note using ``[[]]`` returns a DataFrame.\n",
            "    \n",
            "    >>> df.loc[[('cobra', 'mark ii')]]\n",
            "                   max_speed  shield\n",
            "    cobra mark ii          0       4\n",
            "    \n",
            "    Single tuple for the index with a single label for the column\n",
            "    \n",
            "    >>> df.loc[('cobra', 'mark i'), 'shield']\n",
            "    2\n",
            "    \n",
            "    Slice from index tuple to single label\n",
            "    \n",
            "    >>> df.loc[('cobra', 'mark i'):'viper']\n",
            "                         max_speed  shield\n",
            "    cobra      mark i           12       2\n",
            "               mark ii           0       4\n",
            "    sidewinder mark i           10      20\n",
            "               mark ii           1       4\n",
            "    viper      mark ii           7       1\n",
            "               mark iii         16      36\n",
            "    \n",
            "    Slice from index tuple to index tuple\n",
            "    \n",
            "    >>> df.loc[('cobra', 'mark i'):('viper', 'mark ii')]\n",
            "                        max_speed  shield\n",
            "    cobra      mark i          12       2\n",
            "               mark ii          0       4\n",
            "    sidewinder mark i          10      20\n",
            "               mark ii          1       4\n",
            "    viper      mark ii          7       1\n",
            "\n"
          ],
          "name": "stdout"
        }
      ]
    },
    {
      "cell_type": "markdown",
      "metadata": {
        "id": "dO8tSwveCTQJ"
      },
      "source": [
        "## Input/Output\n",
        "Read and Write to CSV"
      ]
    },
    {
      "cell_type": "code",
      "metadata": {
        "id": "YLwbfOXLCXiz"
      },
      "source": [
        "pd.read_csv('file.csv', header=None, nrows=5)"
      ],
      "execution_count": null,
      "outputs": []
    },
    {
      "cell_type": "code",
      "metadata": {
        "id": "mI4jn15CCaIY"
      },
      "source": [
        "df.to_csv('myDataFrame.csv')"
      ],
      "execution_count": null,
      "outputs": []
    },
    {
      "cell_type": "code",
      "metadata": {
        "id": "TTLAoOsqCdAS"
      },
      "source": [
        "# Read multiple sheets from the same file\n",
        "xlsx = pd.ExcelFile('file.xls')\n",
        "df = pd.read_excel(xlsx,  'Sheet1')"
      ],
      "execution_count": null,
      "outputs": []
    },
    {
      "cell_type": "code",
      "metadata": {
        "id": "a29IHJICCrtQ"
      },
      "source": [
        "# Read and Write to Excel\n",
        "pd.read_excel('file.xlsx')\n",
        "df.to_excel('dir/myDataFrame.xlsx',  sheet_name='Sheet1')"
      ],
      "execution_count": null,
      "outputs": []
    },
    {
      "cell_type": "markdown",
      "metadata": {
        "id": "alLBoauHC1IX"
      },
      "source": [
        "### Read and Write to SQL Query or Database Table\n",
        "\n",
        "(read_sql()is a convenience wrapper around read_sql_table() and read_sql_query())"
      ]
    },
    {
      "cell_type": "code",
      "metadata": {
        "id": "9n9sQd_cC00R"
      },
      "source": [
        "from sqlalchemy import create_engine\n",
        "engine = create_engine('sqlite:///:memory:')\n",
        "pd.read_sql(SELECT * FROM my_table;, engine)\n",
        "pd.read_sql_table('my_table', engine)\n",
        "pd.read_sql_query(SELECT * FROM my_table;', engine)\n",
        "df.to_sql('myDf', engine)"
      ],
      "execution_count": null,
      "outputs": []
    },
    {
      "cell_type": "markdown",
      "metadata": {
        "id": "dTs6L_1YDZvI"
      },
      "source": [
        "## Selection"
      ]
    },
    {
      "cell_type": "code",
      "metadata": {
        "id": "gm7WSHGlDccg"
      },
      "source": [
        "# Get one element\n",
        "s['b']"
      ],
      "execution_count": null,
      "outputs": []
    },
    {
      "cell_type": "code",
      "metadata": {
        "id": "Z6FNLQUIDpCx"
      },
      "source": [
        "# Get subset of a DataFrame\n",
        "df[1:]"
      ],
      "execution_count": null,
      "outputs": []
    },
    {
      "cell_type": "markdown",
      "metadata": {
        "id": "tB4A2mbKEGWh"
      },
      "source": [
        "### Selecting', Boolean Indexing and Setting\n",
        "By Position\n",
        "Select single value by row and and column"
      ]
    },
    {
      "cell_type": "code",
      "metadata": {
        "id": "sCSn5nHjESfx"
      },
      "source": [
        "df.iloc([0], [0])"
      ],
      "execution_count": null,
      "outputs": []
    },
    {
      "cell_type": "code",
      "metadata": {
        "id": "-Iwhd7BKEUGI"
      },
      "source": [
        "df.iat([0], [0])"
      ],
      "execution_count": null,
      "outputs": []
    },
    {
      "cell_type": "markdown",
      "metadata": {
        "id": "sz3YIoctEZa5"
      },
      "source": [
        "By Label\n",
        "Select single value by row and column labels"
      ]
    },
    {
      "cell_type": "code",
      "metadata": {
        "id": "lbZ8GWSVEfkx"
      },
      "source": [
        "df.loc([0],  ['Country'])"
      ],
      "execution_count": null,
      "outputs": []
    },
    {
      "cell_type": "code",
      "metadata": {
        "id": "MskosGh6EiSw"
      },
      "source": [
        "df.at([0],  ['Country'])"
      ],
      "execution_count": null,
      "outputs": []
    },
    {
      "cell_type": "markdown",
      "metadata": {
        "id": "y-mxvzHFEmyR"
      },
      "source": [
        "By Label/Position\n",
        "\n",
        "Select single row of subset of rows"
      ]
    },
    {
      "cell_type": "code",
      "metadata": {
        "id": "lMfnyN5FEmUA"
      },
      "source": [
        "df.ix[2]"
      ],
      "execution_count": null,
      "outputs": []
    },
    {
      "cell_type": "code",
      "metadata": {
        "id": "rWGGD88KEu4I"
      },
      "source": [
        "# Select a single column of subset of columns\n",
        "\n",
        "df.ix[:, 'Capital']"
      ],
      "execution_count": null,
      "outputs": []
    },
    {
      "cell_type": "code",
      "metadata": {
        "id": "LUNKNWXwE0d5"
      },
      "source": [
        "# Select rows and columns\n",
        "\n",
        "df.ix[1, 'Capital']"
      ],
      "execution_count": null,
      "outputs": []
    },
    {
      "cell_type": "markdown",
      "metadata": {
        "id": "nnPjZUFRE6hw"
      },
      "source": [
        "Boolean Indexing"
      ]
    },
    {
      "cell_type": "code",
      "metadata": {
        "id": "Zd_gDAJWE58x"
      },
      "source": [
        "# Series s where value is not >1\n",
        "s[~(s > 1)]"
      ],
      "execution_count": null,
      "outputs": []
    },
    {
      "cell_type": "code",
      "metadata": {
        "id": "SabZFTJvFDcB"
      },
      "source": [
        "# s where value is <-1 or >2\n",
        "s[(s < -1) | (s > 2)]"
      ],
      "execution_count": null,
      "outputs": []
    },
    {
      "cell_type": "code",
      "metadata": {
        "id": "otELU4-WFKew"
      },
      "source": [
        "# Use filter to adjust DataFrame\n",
        "\n",
        "df[df['Population']>1200000000]"
      ],
      "execution_count": null,
      "outputs": []
    },
    {
      "cell_type": "markdown",
      "metadata": {
        "id": "kr4KYWcZFP3y"
      },
      "source": [
        "Setting"
      ]
    },
    {
      "cell_type": "code",
      "metadata": {
        "id": "jtGPk57YFTFw"
      },
      "source": [
        "# Set index a of Series s to 6\n",
        "s['a'] = 6"
      ],
      "execution_count": null,
      "outputs": []
    },
    {
      "cell_type": "markdown",
      "metadata": {
        "id": "fqNe2MIcFW2o"
      },
      "source": [
        "Dropping"
      ]
    },
    {
      "cell_type": "code",
      "metadata": {
        "id": "NxwoR69AFadw"
      },
      "source": [
        "# Drop values from rows (axis=0)\n",
        "\n",
        "s.drop(['a',  'c'])"
      ],
      "execution_count": null,
      "outputs": []
    },
    {
      "cell_type": "code",
      "metadata": {
        "id": "LY2Ar0n5FfmQ"
      },
      "source": [
        "# Drop values from columns(axis=1)\n",
        "\n",
        "df.drop('Country', axis=1) "
      ],
      "execution_count": null,
      "outputs": []
    },
    {
      "cell_type": "markdown",
      "metadata": {
        "id": "bAgkX886FmYQ"
      },
      "source": [
        "## Sort and Rank"
      ]
    },
    {
      "cell_type": "code",
      "metadata": {
        "id": "RBfxNYs5Flzo"
      },
      "source": [
        "# Sort by labels along an axis\n",
        "df.sort_index()"
      ],
      "execution_count": null,
      "outputs": []
    },
    {
      "cell_type": "code",
      "metadata": {
        "id": "0F6FjpxWFxu5"
      },
      "source": [
        "#Sort by the values along an axis\n",
        "df.sort_values(by='Country')"
      ],
      "execution_count": null,
      "outputs": []
    },
    {
      "cell_type": "code",
      "metadata": {
        "id": "As4XpW-YNth5"
      },
      "source": [
        "# Assign ranks to entries\n",
        "df.rank()"
      ],
      "execution_count": null,
      "outputs": []
    },
    {
      "cell_type": "markdown",
      "metadata": {
        "id": "7X41s2jxN7fZ"
      },
      "source": [
        "## Retrieving Series/DataFrame Information\n",
        "Basic Information\n",
        "(rows, columns)"
      ]
    },
    {
      "cell_type": "code",
      "metadata": {
        "id": "CCn0pZKHOA2U"
      },
      "source": [
        "df.shape"
      ],
      "execution_count": null,
      "outputs": []
    },
    {
      "cell_type": "code",
      "metadata": {
        "id": "2iAbk1mkOEBz"
      },
      "source": [
        "# Describe index\n",
        "df.index"
      ],
      "execution_count": null,
      "outputs": []
    },
    {
      "cell_type": "code",
      "metadata": {
        "id": "zYhe3lgnOJ2b"
      },
      "source": [
        "# Describe DataFrame columns\n",
        "df.columns"
      ],
      "execution_count": null,
      "outputs": []
    },
    {
      "cell_type": "code",
      "metadata": {
        "id": "XEepkFrpOPLz"
      },
      "source": [
        "# Info on DataFrame\n",
        "df.info()"
      ],
      "execution_count": null,
      "outputs": []
    },
    {
      "cell_type": "code",
      "metadata": {
        "id": "bEjgawJvOUBk"
      },
      "source": [
        "# Number of non-NA values\n",
        "df.count()"
      ],
      "execution_count": null,
      "outputs": []
    },
    {
      "cell_type": "markdown",
      "metadata": {
        "id": "VrZsfFkwOm1R"
      },
      "source": [
        "## Summary"
      ]
    },
    {
      "cell_type": "code",
      "metadata": {
        "id": "CN1HaY84Oe38"
      },
      "source": [
        "# Sum of values\n",
        "df.sum()"
      ],
      "execution_count": null,
      "outputs": []
    },
    {
      "cell_type": "code",
      "metadata": {
        "id": "8Eqrd--IOvIb"
      },
      "source": [
        "# Cumulative sum of values\n",
        "df.cumsum()"
      ],
      "execution_count": null,
      "outputs": []
    },
    {
      "cell_type": "code",
      "metadata": {
        "id": "pmNtNxdVOz8s"
      },
      "source": [
        "# Minimum/maximum values\n",
        "df.min()/df.max()"
      ],
      "execution_count": null,
      "outputs": []
    },
    {
      "cell_type": "code",
      "metadata": {
        "id": "7ughfLLgO3WT"
      },
      "source": [
        "# Minimum/Maximum index value\n",
        "df.idxmin()/df.idxmax() "
      ],
      "execution_count": null,
      "outputs": []
    },
    {
      "cell_type": "code",
      "metadata": {
        "id": "UM87WcOAPA6E"
      },
      "source": [
        "# Summary statistics\n",
        "df.describe()"
      ],
      "execution_count": null,
      "outputs": []
    },
    {
      "cell_type": "code",
      "metadata": {
        "id": "SylAg_UxPGq0"
      },
      "source": [
        "# Mean of values\n",
        "df.mean()"
      ],
      "execution_count": null,
      "outputs": []
    },
    {
      "cell_type": "code",
      "metadata": {
        "id": "-MwCDjJ3PMQU"
      },
      "source": [
        "# Median of values\n",
        "df.median()"
      ],
      "execution_count": null,
      "outputs": []
    },
    {
      "cell_type": "code",
      "metadata": {
        "id": "WPjsyDjoPTH1"
      },
      "source": [
        "# Applying Functions\n",
        "f = lambda x: x*2\n",
        "\n",
        "#Apply function\n",
        "df.apply(f)"
      ],
      "execution_count": null,
      "outputs": []
    },
    {
      "cell_type": "code",
      "metadata": {
        "id": "gcwpjVHDPf1U"
      },
      "source": [
        "# Apply function element-wise\n",
        "df.applymap(f)"
      ],
      "execution_count": null,
      "outputs": []
    },
    {
      "cell_type": "markdown",
      "metadata": {
        "id": "oVChdwgSPlQi"
      },
      "source": [
        "\n",
        "## Internal Data Alignment"
      ]
    },
    {
      "cell_type": "code",
      "metadata": {
        "id": "6eLNGImvPqPb"
      },
      "source": [
        "# NA values are introduced in the indices that don't overlap:\n",
        "\n",
        "s3 = pd.Series([7, -2, 3],  index=['a',  'c',  'd'])\n",
        "s + s3"
      ],
      "execution_count": null,
      "outputs": []
    },
    {
      "cell_type": "code",
      "metadata": {
        "id": "eOopbsmnPxrL"
      },
      "source": [
        "# Arithmetic Operations with Fill Methods\n",
        "# You can also do the internal data alignment yourself with the help of the fill methods:\n",
        "\n",
        "s.add(s3, fill_value=0)"
      ],
      "execution_count": null,
      "outputs": []
    },
    {
      "cell_type": "code",
      "metadata": {
        "id": "USA9KFWcP2g7"
      },
      "source": [
        "s.sub(s3, fill_value=2)"
      ],
      "execution_count": null,
      "outputs": []
    },
    {
      "cell_type": "code",
      "metadata": {
        "id": "bmo6Kt5-P4b7"
      },
      "source": [
        "s.div(s3, fill_value=4)"
      ],
      "execution_count": null,
      "outputs": []
    },
    {
      "cell_type": "code",
      "metadata": {
        "id": "42SwfjkZP69D"
      },
      "source": [
        "s.mul(s3, fill_value=3)"
      ],
      "execution_count": null,
      "outputs": []
    },
    {
      "cell_type": "code",
      "metadata": {
        "id": "a6Ipz1GNAjdy"
      },
      "source": [
        "a    10.0\n",
        "b    -5.0\n",
        "c    5.0\n",
        "d    7.0"
      ],
      "execution_count": null,
      "outputs": []
    }
  ]
}